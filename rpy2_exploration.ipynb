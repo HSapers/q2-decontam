{
 "cells": [
  {
   "cell_type": "code",
   "execution_count": 1,
   "id": "0868a8f9",
   "metadata": {
    "scrolled": true
   },
   "outputs": [],
   "source": [
    "# Intro resource:\n",
    "# https://rpy2.github.io/doc/v3.4.x/html/introduction.html#creating-an-r-vector-or-matrix-and-filling-its-cells-using-python-code\n",
    "\n",
    "import numpy as np\n",
    "import pandas as pd\n",
    "import rpy2\n",
    "rpy2.__version__\n",
    "import rpy2.robjects as robjects\n",
    "from rpy2.robjects.packages import importr"
   ]
  },
  {
   "cell_type": "code",
   "execution_count": 2,
   "id": "2cd9156d",
   "metadata": {},
   "outputs": [],
   "source": [
    "base = importr('base')\n",
    "utils = importr('utils')"
   ]
  },
  {
   "cell_type": "code",
   "execution_count": 3,
   "id": "0c7deb7e",
   "metadata": {},
   "outputs": [
    {
     "name": "stdout",
     "output_type": "stream",
     "text": [
      "<class 'rpy2.robjects.vectors.DataFrame'>\n"
     ]
    }
   ],
   "source": [
    "print(rpy2.robjects.DataFrame)"
   ]
  },
  {
   "cell_type": "code",
   "execution_count": 4,
   "id": "9ed98cdc",
   "metadata": {},
   "outputs": [
    {
     "data": {
      "text/plain": [
       "<rpy2.rinterface_lib.sexp.NULLType object at 0x7f9649588f50> [RTYPES.NILSXP]"
      ]
     },
     "execution_count": 4,
     "metadata": {},
     "output_type": "execute_result"
    }
   ],
   "source": [
    "# Install and load an R package\n",
    "import rpy2.robjects.packages as rpackages\n",
    "\n",
    "# select a mirror for R packages\n",
    "utils.chooseCRANmirror(ind=1) # select the first mirror in the list"
   ]
  },
  {
   "cell_type": "code",
   "execution_count": 5,
   "id": "f240bed3",
   "metadata": {},
   "outputs": [],
   "source": [
    "# install/load ctd\n",
    "# NOTE: This installs packages in a tempdir.\n",
    "# Environments with heavy deps should probably install outside of rpy2...\n",
    "# but weirdly, running this the next day didn't take any time, so maybe there's persistence?\n",
    "\n",
    "# R package names\n",
    "packnames = ('ggplot2', 'lazyeval')\n",
    "\n",
    "# R vector of strings\n",
    "from rpy2.robjects.vectors import StrVector\n",
    "\n",
    "# Selectively install what needs to be install.\n",
    "# We are fancy, just because we can.\n",
    "names_to_install = [x for x in packnames if not rpackages.isinstalled(x)]\n",
    "if len(names_to_install) > 0:\n",
    "    utils.install_packages(StrVector(names_to_install))"
   ]
  },
  {
   "cell_type": "code",
   "execution_count": 6,
   "id": "bd987d43",
   "metadata": {},
   "outputs": [],
   "source": [
    "# Once we've installed, we can import normally\n",
    "ggplot = importr(\"ggplot2\")"
   ]
  },
  {
   "cell_type": "code",
   "execution_count": 7,
   "id": "08828b77",
   "metadata": {},
   "outputs": [
    {
     "name": "stdout",
     "output_type": "stream",
     "text": [
      "    sampleid barcodeSequence     isGerbil  someInts  someFloats\n",
      "0  #q1:types     categorical  categorical         1         1.1\n",
      "1   s_id_123    TACCGCTTCTTC      totally      -111      -111.1\n",
      "\n",
      "   sampleid         barcodeSequence      isGerbil            someInts   \n",
      " Length:2           Length:2           Length:2           Min.   :-111  \n",
      " Class :character   Class :character   Class :character   1st Qu.: -83  \n",
      " Mode  :character   Mode  :character   Mode  :character   Median : -55  \n",
      "                                                          Mean   : -55  \n",
      "                                                          3rd Qu.: -27  \n",
      "                                                          Max.   :   1  \n",
      "   someFloats     \n",
      " Min.   :-111.10  \n",
      " 1st Qu.: -83.05  \n",
      " Median : -55.00  \n",
      " Mean   : -55.00  \n",
      " 3rd Qu.: -26.95  \n",
      " Max.   :   1.10  \n",
      "\n",
      "\n",
      "Here's the df converted back to pd:\n",
      "<class 'pandas.core.frame.DataFrame'>\n",
      "    sampleid barcodeSequence     isGerbil  someInts  someFloats\n",
      "0  #q1:types     categorical  categorical         1         1.1\n",
      "1   s_id_123    TACCGCTTCTTC      totally      -111      -111.1\n"
     ]
    }
   ],
   "source": [
    "# Build a dataframe with pandas and make it an R DF. See:\n",
    "# https://rpy2.github.io/doc/v3.4.x/html/generated_rst/pandas.html\n",
    "import rpy2.robjects as ro\n",
    "from rpy2.robjects import pandas2ri\n",
    "from rpy2.robjects.conversion import localconverter\n",
    "s_m_data = {'sampleid': ['#q1:types', 's_id_123'],\n",
    "            'barcodeSequence': ['categorical', 'TACCGCTTCTTC'],\n",
    "            'isGerbil': ['categorical', 'totally'],\n",
    "            'someInts': [1, -111],\n",
    "            'someFloats': [1.1, -111.1]\n",
    "           }\n",
    "pd_df = pd.DataFrame(s_m_data, columns=s_m_data.keys())\n",
    "\n",
    "print(pd_df)\n",
    "\n",
    "\n",
    "#NOTE: This only works with dataframes that have multiple columns.\n",
    "# For single-column dfs, I think we must convert from Series, or write directly in R\n",
    "with localconverter(ro.default_converter + pandas2ri.converter):\n",
    "    r_df = ro.conversion.py2rpy(pd_df)\n",
    "    df_summary = base.summary(pd_df)\n",
    "    \n",
    "        \n",
    "    print()\n",
    "    print(df_summary)\n",
    "\n",
    "    # We can do the same thing in the opposite direction using the same converter CM\n",
    "    newpy = ro.conversion.rpy2py(r_df)\n",
    "    print()\n",
    "    print(\"Here's the df converted back to pd:\")\n",
    "    print(type(newpy))\n",
    "    print(newpy)\n"
   ]
  },
  {
   "cell_type": "code",
   "execution_count": 8,
   "id": "fb36602d",
   "metadata": {
    "scrolled": true
   },
   "outputs": [
    {
     "name": "stdout",
     "output_type": "stream",
     "text": [
      "     ids   x   y\n",
      "pt1  pt1   1   2\n",
      "pt2  pt2   4   8\n",
      "pt3  pt3  11  22\n",
      "\n",
      "     ids                  x                y        \n",
      " Length:3           Min.   : 1.000   Min.   : 2.00  \n",
      " Class :character   1st Qu.: 2.500   1st Qu.: 5.00  \n",
      " Mode  :character   Median : 4.000   Median : 8.00  \n",
      "                    Mean   : 5.333   Mean   :10.67  \n",
      "                    3rd Qu.: 7.500   3rd Qu.:15.00  \n",
      "                    Max.   :11.000   Max.   :22.00  \n",
      "\n",
      "$data\n",
      "    ids  x  y\n",
      "pt1 pt1  1  2\n",
      "pt2 pt2  4  8\n",
      "pt3 pt3 11 22\n",
      "\n",
      "$layers\n",
      "list()\n",
      "\n",
      "$scales\n",
      "<ggproto object: Class ScalesList, gg>\n",
      "    add: function\n",
      "    clone: function\n",
      "    find: function\n",
      "    get_scales: function\n",
      "    has_scale: function\n",
      "    input: function\n",
      "    n: function\n",
      "    non_position_scales: function\n",
      "    scales: NULL\n",
      "    super:  <ggproto object: Class ScalesList, gg>\n",
      "\n",
      "$mapping\n",
      "Aesthetic mapping: \n",
      "<empty>\n",
      "\n",
      "$theme\n",
      "list()\n",
      "\n",
      "$coordinates\n",
      "<ggproto object: Class CoordCartesian, Coord, gg>\n",
      "    aspect: function\n",
      "    backtransform_range: function\n",
      "    clip: on\n",
      "    default: TRUE\n",
      "    distance: function\n",
      "    expand: TRUE\n",
      "    is_free: function\n",
      "    is_linear: function\n",
      "    labels: function\n",
      "    limits: list\n",
      "    modify_scales: function\n",
      "    range: function\n",
      "    render_axis_h: function\n",
      "    render_axis_v: function\n",
      "    render_bg: function\n",
      "    render_fg: function\n",
      "    setup_data: function\n",
      "    setup_layout: function\n",
      "    setup_panel_guides: function\n",
      "    setup_panel_params: function\n",
      "    setup_params: function\n",
      "    train_panel_guides: function\n",
      "    transform: function\n",
      "    super:  <ggproto object: Class CoordCartesian, Coord, gg>\n",
      "\n",
      "$facet\n",
      "<ggproto object: Class FacetNull, Facet, gg>\n",
      "    compute_layout: function\n",
      "    draw_back: function\n",
      "    draw_front: function\n",
      "    draw_labels: function\n",
      "    draw_panels: function\n",
      "    finish_data: function\n",
      "    init_scales: function\n",
      "    map_data: function\n",
      "    params: list\n",
      "    setup_data: function\n",
      "    setup_params: function\n",
      "    shrink: TRUE\n",
      "    train_scales: function\n",
      "    vars: function\n",
      "    super:  <ggproto object: Class FacetNull, Facet, gg>\n",
      "\n",
      "$plot_env\n",
      "<environment: R_GlobalEnv>\n",
      "\n",
      "$labels\n",
      "named list()\n",
      "\n",
      "$x\n",
      "\u001b[1m<quosure>\u001b[22m\n",
      "expr: \u001b[39m^x\u001b[39m\n",
      "env:  global\n",
      "\n",
      "$y\n",
      "\u001b[1m<quosure>\u001b[22m\n",
      "expr: \u001b[39m^y\u001b[39m\n",
      "env:  global\n",
      "\n",
      "$colour\n",
      "\u001b[1m<quosure>\u001b[22m\n",
      "expr: \u001b[39m^ids\u001b[39m\n",
      "env:  global\n",
      "\n",
      "[[13]]\n",
      "geom_point: na.rm = FALSE\n",
      "stat_identity: na.rm = FALSE\n",
      "position_identity \n",
      "\n"
     ]
    },
    {
     "data": {
      "image/png": "\n",
      "text/plain": [
       "<IPython.core.display.Image object>"
      ]
     },
     "execution_count": 8,
     "metadata": {},
     "output_type": "execute_result"
    }
   ],
   "source": [
    "# plot using an R package (ggplot2)\n",
    "points_data = {'ids': ['pt1', 'pt2', 'pt3'],\n",
    "               'x': [1, 4, 11],\n",
    "               'y': [2, 8, 22],\n",
    "           }\n",
    "\n",
    "# TODO: Does everything play nice if we don't specify an index?\n",
    "pd_df = pd.DataFrame(points_data, columns=points_data.keys(), index=points_data['ids'])\n",
    "\n",
    "print(pd_df)\n",
    "\n",
    "\n",
    "#NOTE: This only works with dataframes that have multiple columns.\n",
    "# For single-column dfs, I think we must convert from Series, or write directly in R\n",
    "with localconverter(ro.default_converter + pandas2ri.converter):\n",
    "    r_df = ro.conversion.py2rpy(pd_df)\n",
    "    df_summary = base.summary(pd_df)\n",
    "    \n",
    "print()\n",
    "print(df_summary)\n",
    "\n",
    "from rpy2.robjects import rl\n",
    "plt = (\n",
    "    ggplot.ggplot(r_df) +\n",
    "    ggplot.aes(x=rl('x'),\n",
    "               y=rl('y'),\n",
    "               color=rl('ids')) +\n",
    "    ggplot.geom_point()\n",
    ")\n",
    "\n",
    "from rpy2.ipython.ggplot import image_png\n",
    "image_png(plt)"
   ]
  },
  {
   "cell_type": "code",
   "execution_count": 9,
   "id": "be2ce59e",
   "metadata": {},
   "outputs": [],
   "source": [
    "# We can run cells in R code as well:\n",
    "# First, load \"R magic\" extension\n",
    "%load_ext rpy2.ipython\n",
    "\n",
    "# then we'll use it. NOTE, the magic call below must be the first line\n",
    "# of the cell:"
   ]
  },
  {
   "cell_type": "code",
   "execution_count": 10,
   "id": "852f3299",
   "metadata": {},
   "outputs": [
    {
     "name": "stdout",
     "output_type": "stream",
     "text": [
      "     ids                  x                y        \n",
      " Length:3           Min.   : 1.000   Min.   : 2.00  \n",
      " Class :character   1st Qu.: 2.500   1st Qu.: 5.00  \n",
      " Mode  :character   Median : 4.000   Median : 8.00  \n",
      "                    Mean   : 5.333   Mean   :10.67  \n",
      "                    3rd Qu.: 7.500   3rd Qu.:15.00  \n",
      "                    Max.   :11.000   Max.   :22.00  \n"
     ]
    },
    {
     "data": {
      "image/png": "[encoded data removed]"
     },
     "metadata": {},
     "output_type": "display_data"
    }
   ],
   "source": [
    "%%R -i r_df\n",
    "# This cell runs in R.\n",
    "# the -i flag seems to import data from the python env. Calls below fail\n",
    "# on missing r_df if it's not here.\n",
    "R.version.string\n",
    "print(summary(r_df))\n",
    "\n",
    "p <- ggplot(r_df) +\n",
    "     aes(x=x, y=y) +\n",
    "     geom_point()\n",
    "\n",
    "print(p)\n",
    "\n",
    "# TODO: Why are all of the labels super jacked up here?\n",
    "# They're also broken in the plot produced below by ggsave, so this plot is actually borked"
   ]
  },
  {
   "cell_type": "code",
   "execution_count": 11,
   "id": "eee79f20",
   "metadata": {},
   "outputs": [
    {
     "name": "stderr",
     "output_type": "stream",
     "text": [
      "R[write to console]: Saving 6.67 x 6.67 in image\n",
      "\n"
     ]
    }
   ],
   "source": [
    "%%R\n",
    "# NOTE: Here, we don't need to -i p, probably because it was created\n",
    "# in the R namespace instead of the python namespace.\n",
    "ggsave(filename='plot.png', plot=p, device = \"png\")\n"
   ]
  },
  {
   "cell_type": "code",
   "execution_count": 19,
   "id": "64226b5d",
   "metadata": {},
   "outputs": [
    {
     "name": "stdout",
     "output_type": "stream",
     "text": [
      "    s_ids                 x             y      \n",
      " Length:3           Min.   :1.0   Min.   :3.0  \n",
      " Class :character   1st Qu.:1.5   1st Qu.:4.5  \n",
      " Mode  :character   Median :2.0   Median :6.0  \n",
      "                    Mean   :2.0   Mean   :6.0  \n",
      "                    3rd Qu.:2.5   3rd Qu.:7.5  \n",
      "                    Max.   :3.0   Max.   :9.0  \n",
      "\n"
     ]
    },
    {
     "data": {
      "text/html": [
       "<div>\n",
       "<style scoped>\n",
       "    .dataframe tbody tr th:only-of-type {\n",
       "        vertical-align: middle;\n",
       "    }\n",
       "\n",
       "    .dataframe tbody tr th {\n",
       "        vertical-align: top;\n",
       "    }\n",
       "\n",
       "    .dataframe thead th {\n",
       "        text-align: right;\n",
       "    }\n",
       "</style>\n",
       "<table border=\"1\" class=\"dataframe\">\n",
       "  <thead>\n",
       "    <tr style=\"text-align: right;\">\n",
       "      <th></th>\n",
       "      <th>s_ids</th>\n",
       "      <th>x</th>\n",
       "      <th>y</th>\n",
       "    </tr>\n",
       "  </thead>\n",
       "  <tbody>\n",
       "    <tr>\n",
       "      <th>1</th>\n",
       "      <td>s1</td>\n",
       "      <td>1</td>\n",
       "      <td>3</td>\n",
       "    </tr>\n",
       "    <tr>\n",
       "      <th>2</th>\n",
       "      <td>s2</td>\n",
       "      <td>2</td>\n",
       "      <td>6</td>\n",
       "    </tr>\n",
       "    <tr>\n",
       "      <th>3</th>\n",
       "      <td>s3</td>\n",
       "      <td>3</td>\n",
       "      <td>9</td>\n",
       "    </tr>\n",
       "  </tbody>\n",
       "</table>\n",
       "</div>"
      ],
      "text/plain": [
       "  s_ids  x  y\n",
       "1    s1  1  3\n",
       "2    s2  2  6\n",
       "3    s3  3  9"
      ]
     },
     "execution_count": 19,
     "metadata": {},
     "output_type": "execute_result"
    }
   ],
   "source": [
    "# Create an R dataframe directly in R, by gluing up a bunch of typed vectors\n",
    "raw_r_df = ro.DataFrame({'s_ids': ro.StrVector(['s1', 's2', 's3']),\n",
    "                         'x': ro.IntVector([1, 2, 3]),\n",
    "                         'y': ro.IntVector([3, 6, 9])})\n",
    "print(base.summary(raw_r_df))\n",
    "\n",
    "# We can then convert to pd.DataFrame\n",
    "with localconverter(ro.default_converter + pandas2ri.converter):\n",
    "    py_df = ro.conversion.rpy2py(raw_r_df)\n",
    "\n",
    "py_df"
   ]
  },
  {
   "cell_type": "code",
   "execution_count": null,
   "id": "b03f94f6",
   "metadata": {},
   "outputs": [],
   "source": []
  }
 ],
 "metadata": {
  "kernelspec": {
   "display_name": "Python 3",
   "language": "python",
   "name": "python3"
  },
  "language_info": {
   "codemirror_mode": {
    "name": "ipython",
    "version": 3
   },
   "file_extension": ".py",
   "mimetype": "text/x-python",
   "name": "python",
   "nbconvert_exporter": "python",
   "pygments_lexer": "ipython3",
   "version": "3.7.11"
  }
 },
 "nbformat": 4,
 "nbformat_minor": 5
}
