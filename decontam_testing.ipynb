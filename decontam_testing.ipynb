{
 "cells": [
  {
   "cell_type": "code",
   "execution_count": 78,
   "id": "8bbffbab-151d-4dbe-8030-5f3dd10800ad",
   "metadata": {},
   "outputs": [
    {
     "ename": "ModuleNotFoundError",
     "evalue": "No module named 'qiime2.FeatureTable'",
     "output_type": "error",
     "traceback": [
      "\u001b[0;31m---------------------------------------------------------------------------\u001b[0m",
      "\u001b[0;31mModuleNotFoundError\u001b[0m                       Traceback (most recent call last)",
      "\u001b[0;32m<ipython-input-78-24244e29760d>\u001b[0m in \u001b[0;36m<module>\u001b[0;34m\u001b[0m\n\u001b[1;32m      9\u001b[0m \u001b[0;34m\u001b[0m\u001b[0m\n\u001b[1;32m     10\u001b[0m \u001b[0;32mimport\u001b[0m \u001b[0mqiime2\u001b[0m\u001b[0;34m\u001b[0m\u001b[0;34m\u001b[0m\u001b[0m\n\u001b[0;32m---> 11\u001b[0;31m \u001b[0;32mimport\u001b[0m \u001b[0mqiime2\u001b[0m\u001b[0;34m.\u001b[0m\u001b[0mFeatureTable\u001b[0m\u001b[0;34m\u001b[0m\u001b[0;34m\u001b[0m\u001b[0m\n\u001b[0m",
      "\u001b[0;31mModuleNotFoundError\u001b[0m: No module named 'qiime2.FeatureTable'"
     ]
    }
   ],
   "source": [
    "import glob\n",
    "import os\n",
    "import pandas as pd\n",
    "import numpy as np\n",
    "import math\n",
    "import scipy.stats as st\n",
    "import yaml\n",
    "import biom\n",
    "\n",
    "import qiime2\n",
    "import qiime2.FeatureTable"
   ]
  },
  {
   "cell_type": "code",
   "execution_count": 50,
   "id": "5b4e4efb-e32d-4eeb-be84-47237c6f2257",
   "metadata": {},
   "outputs": [
    {
     "data": {
      "text/html": [
       "<div>\n",
       "<style scoped>\n",
       "    .dataframe tbody tr th:only-of-type {\n",
       "        vertical-align: middle;\n",
       "    }\n",
       "\n",
       "    .dataframe tbody tr th {\n",
       "        vertical-align: top;\n",
       "    }\n",
       "\n",
       "    .dataframe thead th {\n",
       "        text-align: right;\n",
       "    }\n",
       "</style>\n",
       "<table border=\"1\" class=\"dataframe\">\n",
       "  <thead>\n",
       "    <tr style=\"text-align: right;\">\n",
       "      <th></th>\n",
       "    </tr>\n",
       "    <tr>\n",
       "      <th>ids</th>\n",
       "    </tr>\n",
       "  </thead>\n",
       "  <tbody>\n",
       "    <tr>\n",
       "      <th>sample1</th>\n",
       "    </tr>\n",
       "    <tr>\n",
       "      <th>sample2</th>\n",
       "    </tr>\n",
       "    <tr>\n",
       "      <th>sample3</th>\n",
       "    </tr>\n",
       "  </tbody>\n",
       "</table>\n",
       "</div>"
      ],
      "text/plain": [
       "Empty DataFrame\n",
       "Columns: []\n",
       "Index: [sample1, sample2, sample3]"
      ]
     },
     "execution_count": 50,
     "metadata": {},
     "output_type": "execute_result"
    }
   ],
   "source": [
    "ids = ['sample1', 'sample2', 'sample3']\n",
    "df = pd.DataFrame(index=pd.Series(ids, name='ids'))\n",
    "df\n",
    "                  "
   ]
  },
  {
   "cell_type": "code",
   "execution_count": null,
   "id": "9e696a63-fe68-440b-abb3-4cd076ce8648",
   "metadata": {},
   "outputs": [],
   "source": [
    "!qiime decontam split-samples --help"
   ]
  },
  {
   "cell_type": "code",
   "execution_count": 72,
   "id": "ee9d5550-bd6c-4a6a-ae9c-b5df2acb0151",
   "metadata": {},
   "outputs": [
    {
     "name": "stdout",
     "output_type": "stream",
     "text": [
      "\u001b[32mImported feature_table_test.biom as BIOMV210Format to feature_table_test.qza\u001b[0m\n"
     ]
    }
   ],
   "source": [
    "!qiime tools import \\\n",
    "--input-path feature_table_test.biom \\\n",
    "--type 'FeatureTable[Frequency]' \\\n",
    "--input-format BIOMV210Format \\\n",
    "--output-path feature_table_test.qza"
   ]
  },
  {
   "cell_type": "code",
   "execution_count": 74,
   "id": "53610b77-f2b6-4552-a4ef-8127230b4c81",
   "metadata": {},
   "outputs": [
    {
     "name": "stdout",
     "output_type": "stream",
     "text": [
      "\u001b[32mSaved FeatureTableBatches[Frequency] to: test.qza\u001b[0m\n"
     ]
    }
   ],
   "source": [
    "!qiime decontam split-samples \\\n",
    "--i-table feature_table_test.qza \\\n",
    "--m-sample-metadata-file split-batches-test.tsv \\\n",
    "--p-batch-types extraction \\\n",
    "--o-feature-tables-by-batch test.qza"
   ]
  },
  {
   "cell_type": "code",
   "execution_count": 82,
   "id": "bac8dbd2-7e6d-4ca0-9c0b-0d499646e7bb",
   "metadata": {},
   "outputs": [
    {
     "name": "stdout",
     "output_type": "stream",
     "text": [
      "Archive:  test.qza\n",
      "  inflating: 8f2a67c6-992f-4dda-88d5-650c5b45b7bd/metadata.yaml  \n",
      "  inflating: 8f2a67c6-992f-4dda-88d5-650c5b45b7bd/checksums.md5  \n",
      "  inflating: 8f2a67c6-992f-4dda-88d5-650c5b45b7bd/VERSION  \n",
      "  inflating: 8f2a67c6-992f-4dda-88d5-650c5b45b7bd/provenance/metadata.yaml  \n",
      "  inflating: 8f2a67c6-992f-4dda-88d5-650c5b45b7bd/provenance/citations.bib  \n",
      "  inflating: 8f2a67c6-992f-4dda-88d5-650c5b45b7bd/provenance/VERSION  \n",
      "  inflating: 8f2a67c6-992f-4dda-88d5-650c5b45b7bd/provenance/artifacts/741025c8-19f7-4efd-a1ba-9c9d2888bc93/metadata.yaml  \n",
      "  inflating: 8f2a67c6-992f-4dda-88d5-650c5b45b7bd/provenance/artifacts/741025c8-19f7-4efd-a1ba-9c9d2888bc93/citations.bib  \n",
      "  inflating: 8f2a67c6-992f-4dda-88d5-650c5b45b7bd/provenance/artifacts/741025c8-19f7-4efd-a1ba-9c9d2888bc93/VERSION  \n",
      "  inflating: 8f2a67c6-992f-4dda-88d5-650c5b45b7bd/provenance/artifacts/741025c8-19f7-4efd-a1ba-9c9d2888bc93/action/action.yaml  \n",
      "  inflating: 8f2a67c6-992f-4dda-88d5-650c5b45b7bd/provenance/artifacts/df185d03-b7a5-4158-bc65-f4d64ef55289/metadata.yaml  \n",
      "  inflating: 8f2a67c6-992f-4dda-88d5-650c5b45b7bd/provenance/artifacts/df185d03-b7a5-4158-bc65-f4d64ef55289/citations.bib  \n",
      "  inflating: 8f2a67c6-992f-4dda-88d5-650c5b45b7bd/provenance/artifacts/df185d03-b7a5-4158-bc65-f4d64ef55289/VERSION  \n",
      "  inflating: 8f2a67c6-992f-4dda-88d5-650c5b45b7bd/provenance/artifacts/df185d03-b7a5-4158-bc65-f4d64ef55289/action/action.yaml  \n",
      "  inflating: 8f2a67c6-992f-4dda-88d5-650c5b45b7bd/provenance/action/action.yaml  \n",
      "  inflating: 8f2a67c6-992f-4dda-88d5-650c5b45b7bd/provenance/action/sample_metadata.tsv  \n",
      "  inflating: 8f2a67c6-992f-4dda-88d5-650c5b45b7bd/data/extraction_1.0.biom  \n",
      "  inflating: 8f2a67c6-992f-4dda-88d5-650c5b45b7bd/data/extraction_2.0.biom  \n"
     ]
    }
   ],
   "source": [
    "!unzip test.qza"
   ]
  },
  {
   "cell_type": "code",
   "execution_count": 81,
   "id": "eb58bcda-0cc7-43bd-a1d5-b6d0563147df",
   "metadata": {},
   "outputs": [
    {
     "data": {
      "text/plain": [
       "[(PosixPath('extraction_1.0.biom'),\n",
       "  0 x 0 <class 'biom.table.Table'> with 0 nonzero entries (0% dense)),\n",
       " (PosixPath('extraction_2.0.biom'),\n",
       "  0 x 0 <class 'biom.table.Table'> with 0 nonzero entries (0% dense))]"
      ]
     },
     "execution_count": 81,
     "metadata": {},
     "output_type": "execute_result"
    }
   ],
   "source": [
    "test = qiime2.Artifact.load('test.qza')\n",
    "biom_iterator = test.view(test.format).batches.iter_views(biom.Table) #generator - store the list\n",
    "list(biom_iterator) #assign to variable or list above can call [0] to get first obj\n",
    "# artifact has a method view\n",
    "# test.view(test.format) - conversion into dir fomat, has property batches - the model file dir\n",
    "# iter_views - generation results - iterator yeilding results\n",
    "# test calls batches on what the helper func returns"
   ]
  },
  {
   "cell_type": "code",
   "execution_count": 66,
   "id": "8997483c-29ce-408d-ab02-9f35856c3f76",
   "metadata": {},
   "outputs": [
    {
     "name": "stdout",
     "output_type": "stream",
     "text": [
      "# Constructed from biom file\n",
      "#OTU ID\tsample1\tsample2\tsample3\n",
      "ASV_1\t100.0\t0.0\t0.0\n",
      "ASV_2\t0.0\t0.0\t0.0\n",
      "ASV_3\t100.0\t0.0\t0.0\n",
      "ASV_4\t10.0\t10.0\t10.0\n",
      "ASV_5\t10.0\t10.0\t0.0\n"
     ]
    }
   ],
   "source": [
    "extraction_biom = biom.Table(np.array([[100, 0, 0], [0, 0, 0], [100, 0, 0], [10, 10, 10], [10, 10, 0]]),\n",
    "                                ['ASV_1', 'ASV_2', 'ASV_3', 'ASV_4', 'ASV_5'], \n",
    "                                ['sample1', 'sample2', 'sample3'])\n",
    "print(extraction_biom)"
   ]
  },
  {
   "cell_type": "code",
   "execution_count": 33,
   "id": "9d66d697-b015-434d-bfa2-53bac6bb572e",
   "metadata": {},
   "outputs": [],
   "source": [
    "%%bash\n",
    "biom convert -i two_feature_table.biom -o two_feature_table_from_biom.txt --to-tsv"
   ]
  },
  {
   "cell_type": "code",
   "execution_count": 43,
   "id": "06195c6c-877d-4ce5-8833-a8d5ffba9cbe",
   "metadata": {},
   "outputs": [],
   "source": [
    "!biom convert -i batch4_table_test.tsv -o batch4_table_test.biom --table-type=\"OTU table\" --to-hdf5"
   ]
  },
  {
   "cell_type": "code",
   "execution_count": 132,
   "id": "aba79bcd-3703-4350-9c30-b63a30271448",
   "metadata": {},
   "outputs": [
    {
     "data": {
      "text/html": [
       "<div>\n",
       "<style scoped>\n",
       "    .dataframe tbody tr th:only-of-type {\n",
       "        vertical-align: middle;\n",
       "    }\n",
       "\n",
       "    .dataframe tbody tr th {\n",
       "        vertical-align: top;\n",
       "    }\n",
       "\n",
       "    .dataframe thead th {\n",
       "        text-align: right;\n",
       "    }\n",
       "</style>\n",
       "<table border=\"1\" class=\"dataframe\">\n",
       "  <thead>\n",
       "    <tr style=\"text-align: right;\">\n",
       "      <th></th>\n",
       "      <th>sample_type</th>\n",
       "      <th>amplification_type</th>\n",
       "      <th>extraction</th>\n",
       "      <th>extraction_type</th>\n",
       "      <th>amplification</th>\n",
       "    </tr>\n",
       "    <tr>\n",
       "      <th>sampleid</th>\n",
       "      <th></th>\n",
       "      <th></th>\n",
       "      <th></th>\n",
       "      <th></th>\n",
       "      <th></th>\n",
       "    </tr>\n",
       "  </thead>\n",
       "  <tbody>\n",
       "    <tr>\n",
       "      <th>sample1</th>\n",
       "      <td>experimental</td>\n",
       "      <td>experimental</td>\n",
       "      <td>1</td>\n",
       "      <td>experimental</td>\n",
       "      <td>1</td>\n",
       "    </tr>\n",
       "    <tr>\n",
       "      <th>sample2</th>\n",
       "      <td>control</td>\n",
       "      <td>experimental</td>\n",
       "      <td>1</td>\n",
       "      <td>control</td>\n",
       "      <td>1</td>\n",
       "    </tr>\n",
       "    <tr>\n",
       "      <th>sample3</th>\n",
       "      <td>control</td>\n",
       "      <td>control</td>\n",
       "      <td>NaN</td>\n",
       "      <td>experimental</td>\n",
       "      <td>1</td>\n",
       "    </tr>\n",
       "    <tr>\n",
       "      <th>sample4</th>\n",
       "      <td>experimental</td>\n",
       "      <td>experimental</td>\n",
       "      <td>2</td>\n",
       "      <td>experimental</td>\n",
       "      <td>2</td>\n",
       "    </tr>\n",
       "    <tr>\n",
       "      <th>sample5</th>\n",
       "      <td>control</td>\n",
       "      <td>experimental</td>\n",
       "      <td>2</td>\n",
       "      <td>control</td>\n",
       "      <td>2</td>\n",
       "    </tr>\n",
       "    <tr>\n",
       "      <th>sample6</th>\n",
       "      <td>control</td>\n",
       "      <td>control</td>\n",
       "      <td>NaN</td>\n",
       "      <td>experimental</td>\n",
       "      <td>2</td>\n",
       "    </tr>\n",
       "  </tbody>\n",
       "</table>\n",
       "</div>"
      ],
      "text/plain": [
       "           sample_type amplification_type extraction extraction_type  \\\n",
       "sampleid                                                               \n",
       "sample1   experimental       experimental          1    experimental   \n",
       "sample2        control       experimental          1         control   \n",
       "sample3        control            control        NaN    experimental   \n",
       "sample4   experimental       experimental          2    experimental   \n",
       "sample5        control       experimental          2         control   \n",
       "sample6        control            control        NaN    experimental   \n",
       "\n",
       "         amplification  \n",
       "sampleid                \n",
       "sample1              1  \n",
       "sample2              1  \n",
       "sample3              1  \n",
       "sample4              2  \n",
       "sample5              2  \n",
       "sample6              2  "
      ]
     },
     "execution_count": 132,
     "metadata": {},
     "output_type": "execute_result"
    }
   ],
   "source": [
    "md = (pd.DataFrame(\n",
    "           {'sample_type': ['experimental', 'control', 'control', \n",
    "                            'experimental', 'control', 'control'],\n",
    "            'amplification_type': ['experimental', 'experimental', 'control', \n",
    "                                   'experimental', 'experimental', 'control'],\n",
    "            'extraction': ['1', '1', np.nan, '2', '2', np.nan],\n",
    "            'extraction_type': ['experimental', 'control', 'experimental', \n",
    "                                   'experimental', 'control', 'experimental'],\n",
    "            'amplification': ['1', '1', '1', '2', '2', '2']},\n",
    "           index=pd.Index(['sample1', 'sample2', 'sample3', 'sample4',\n",
    "                           'sample5', 'sample6'], name='sampleid')))\n",
    "\n",
    "md"
   ]
  },
  {
   "cell_type": "code",
   "execution_count": 136,
   "id": "67e80b54-b63e-43c6-9030-5e23afa4a33b",
   "metadata": {},
   "outputs": [],
   "source": [
    "feature_table = np.array([[100, 0, 0, 100, 0, 0], [0, 0, 0, 100, 0, 0],\n",
    "                      [100, 0, 0, 0, 0, 0], [10, 10, 10, 10, 10, 10],\n",
    "                      [10, 10, 0, 10, 10, 0]]),['ASV_1', 'ASV_2', 'ASV_3', 'ASV_4', 'ASV_5'],['sample1', 'sample2', 'sample3', 'sample4','sample5', 'sample6']\n",
    "with biom.util.biom_open('q2_decontam/tests/data/feature_table.biom', 'w') as f:\n",
    "    extraction_1.to_hdf5(f, \"manual feature table\")"
   ]
  },
  {
   "cell_type": "code",
   "execution_count": 137,
   "id": "5f153a5e-15d9-482d-b1b8-3fd107fa9be8",
   "metadata": {},
   "outputs": [
    {
     "name": "stdout",
     "output_type": "stream",
     "text": [
      "# Constructed from biom file\n",
      "#OTU ID\tsample1\tsample2\n",
      "ASV_1\t100.0\t0.0\n",
      "ASV_2\t0.0\t0.0\n",
      "ASV_3\t100.0\t0.0\n",
      "ASV_4\t10.0\t10.0\n",
      "ASV_5\t10.0\t10.0\n"
     ]
    }
   ],
   "source": [
    "test_table = biom.load_table('q2_decontam/tests/data/feature_table.biom')\n",
    "print(test_table)"
   ]
  },
  {
   "cell_type": "code",
   "execution_count": 129,
   "id": "84656a0a-4567-42d9-a7b2-aa7bf0e2f3dd",
   "metadata": {},
   "outputs": [],
   "source": [
    "extraction_1 = biom.Table(\n",
    "    np.array([[100, 0], [0, 0], [100, 0], [10, 10], [10, 10]]),\n",
    "              ['ASV_1', 'ASV_2', 'ASV_3', 'ASV_4', 'ASV_5'],\n",
    "              ['sample1', 'sample2'])\n",
    "with biom.util.biom_open('q2_decontam/tests/data/batches/extraction_1.biom', 'w') as f:\n",
    "    extraction_1.to_hdf5(f, \"manual test data\")\n",
    "\n",
    "extraction_2 = biom.Table(\n",
    "    np.array([[100, 0], [100, 0], [0, 0], [10, 10], [10, 10]]),\n",
    "              ['ASV_1', 'ASV_2', 'ASV_3', 'ASV_4', 'ASV_5'],\n",
    "              ['sample4', 'sample5'])\n",
    "with biom.util.biom_open('q2_decontam/tests/data/batches/extraction_2.biom', 'w') as f:\n",
    "    extraction_1.to_hdf5(f, \"manual test data\")\n",
    "\n",
    "amplification_1 = biom.Table(\n",
    "    np.array([[100, 0, 0], [0, 0, 0], [100, 0, 0],\n",
    "              [10, 10, 10], [10, 10, 0]]),\n",
    "              ['ASV_1', 'ASV_2', 'ASV_3', 'ASV_4', 'ASV_5'],\n",
    "              ['sample1', 'sample2', 'sample3'])\n",
    "with biom.util.biom_open('q2_decontam/tests/data/batches/amplification_1.biom', 'w') as f:\n",
    "    extraction_1.to_hdf5(f, \"manual test data\")\n",
    "\n",
    "amplification_2 = biom.Table(\n",
    "    np.array([[100, 0, 0], [100, 0, 0], [0, 0, 0],\n",
    "              [10, 10, 10], [10, 10, 0]]),\n",
    "              ['ASV_1', 'ASV_2', 'ASV_3', 'ASV_4', 'ASV_5'],\n",
    "              ['sample4','sample5', 'sample6'])\n",
    "with biom.util.biom_open('q2_decontam/tests/data/batches/amplification_2.biom', 'w') as f:\n",
    "    extraction_1.to_hdf5(f, \"manual test data\")"
   ]
  },
  {
   "cell_type": "code",
   "execution_count": 127,
   "id": "101ff02f-57bc-4305-8db8-3864f53a40b4",
   "metadata": {},
   "outputs": [
    {
     "name": "stdout",
     "output_type": "stream",
     "text": [
      "# Constructed from biom file\n",
      "#OTU ID\tsample1\tsample2\n",
      "ASV_1\t100.0\t0.0\n",
      "ASV_2\t0.0\t0.0\n",
      "ASV_3\t100.0\t0.0\n",
      "ASV_4\t10.0\t10.0\n",
      "ASV_5\t10.0\t10.0\n"
     ]
    }
   ],
   "source": [
    "test_table = biom.load_table('q2_decontam/tests/data/batches/extraction_1.biom')\n",
    "print(test_table)"
   ]
  },
  {
   "cell_type": "code",
   "execution_count": 103,
   "id": "1767d641-1c35-4e21-b7b3-f4d526b48c7b",
   "metadata": {},
   "outputs": [
    {
     "name": "stdout",
     "output_type": "stream",
     "text": [
      "# Constructed from biom file\n",
      "#OTU ID\tsample4\tsample5\tsample6\n",
      "ASV_1\t100.0\t0.0\t0.0\n",
      "ASV_2\t100.0\t0.0\t0.0\n",
      "ASV_3\t0.0\t0.0\t0.0\n",
      "ASV_4\t10.0\t10.0\t10.0\n",
      "ASV_5\t10.0\t10.0\t0.0\n"
     ]
    }
   ],
   "source": [
    "amplification_2 = biom.Table(\n",
    "            np.array([[100, 0, 0], [100, 0, 0],\n",
    "                      [0, 0, 0], [10, 10, 10],\n",
    "                      [10, 10, 0]]),\n",
    "                      ['ASV_1', 'ASV_2', 'ASV_3', 'ASV_4', 'ASV_5'],\n",
    "                      ['sample4','sample5', 'sample6'])\n",
    "print(amplification_2)"
   ]
  },
  {
   "cell_type": "code",
   "execution_count": 113,
   "id": "2defbe9e-e4c3-4fed-bbdb-223c6605908d",
   "metadata": {},
   "outputs": [
    {
     "name": "stdout",
     "output_type": "stream",
     "text": [
      "/Users/haley/Dropbox/qiime2_dev/git/q2-decontam\n"
     ]
    }
   ],
   "source": [
    "!pwd"
   ]
  },
  {
   "cell_type": "code",
   "execution_count": 114,
   "id": "f383a6cb-fab4-4aa4-9324-f74e9b9031c5",
   "metadata": {},
   "outputs": [
    {
     "name": "stdout",
     "output_type": "stream",
     "text": [
      "\u001b[34m8f2a67c6-992f-4dda-88d5-650c5b45b7bd\u001b[m\u001b[m makefile\n",
      "LICENSE.txt                          \u001b[34mq2_decontam\u001b[m\u001b[m\n",
      "batch1_table_test.tsv                \u001b[34mq2_decontam.egg-info\u001b[m\u001b[m\n",
      "batch2_table_test.tsv                setup.py\n",
      "batch3_table_test.tsv                split-batches-test.tsv\n",
      "batch4_table_test.tsv                test.qza\n",
      "decontam_testing.ipynb               test_batches.qza\n",
      "feature_table_test-Copy1.biom        thing.py\n",
      "feature_table_test.biom              two_feature_table.biom\n",
      "feature_table_test.qza               two_feature_table_from_biom.txt\n",
      "\u001b[34mlicenses\u001b[m\u001b[m\n"
     ]
    }
   ],
   "source": [
    "!ls"
   ]
  },
  {
   "cell_type": "code",
   "execution_count": 118,
   "id": "31e665c7-c439-46a3-a6f9-a8c06e2d0885",
   "metadata": {},
   "outputs": [],
   "source": [
    "!cd q2_decontam/tests/data"
   ]
  },
  {
   "cell_type": "code",
   "execution_count": 116,
   "id": "5b88d728-08a2-4432-a8f5-f55a259156df",
   "metadata": {},
   "outputs": [
    {
     "name": "stdout",
     "output_type": "stream",
     "text": [
      "/Users/haley/Dropbox/qiime2_dev/git/q2-decontam\n"
     ]
    }
   ],
   "source": [
    "!pwd"
   ]
  },
  {
   "cell_type": "code",
   "execution_count": 48,
   "id": "b76a9994-6ca3-4c8f-a95b-1db8deff70d2",
   "metadata": {},
   "outputs": [],
   "source": [
    "dict = {'amplification_1': ['sample1', 'sample2', 'sample3']}\n",
    "# print(yaml.safe_dump(dict, default_flow_style=False))\n",
    "with open ('amp_1_test.yml', 'w') as outfile:\n",
    "    yaml.safe_dump(dict, outfile, default_flow_style = False)"
   ]
  },
  {
   "cell_type": "code",
   "execution_count": null,
   "id": "36e90800-a4f2-44fd-870e-d24f9bee1af9",
   "metadata": {},
   "outputs": [],
   "source": [
    "data = q2.Metadata(pd.DataFrame(\n",
    "          {'extraction': [1,1,np.nan ,2 ,2,np.nan],\n",
    "          'amplification': ['1', '1', '1', '2', '2', '2']},\n",
    "          index=pd.Index(['sample1', 'sample2', 'sample3', 'sample4', 'sample5', 'sample6'], name='sampleid')))\n",
    "print(data.view(Dataframe))"
   ]
  },
  {
   "cell_type": "code",
   "execution_count": 19,
   "id": "f321dc9c-27ee-4d67-ae7b-26b17120e4d4",
   "metadata": {},
   "outputs": [
    {
     "data": {
      "text/html": [
       "<div>\n",
       "<style scoped>\n",
       "    .dataframe tbody tr th:only-of-type {\n",
       "        vertical-align: middle;\n",
       "    }\n",
       "\n",
       "    .dataframe tbody tr th {\n",
       "        vertical-align: top;\n",
       "    }\n",
       "\n",
       "    .dataframe thead th {\n",
       "        text-align: right;\n",
       "    }\n",
       "</style>\n",
       "<table border=\"1\" class=\"dataframe\">\n",
       "  <thead>\n",
       "    <tr style=\"text-align: right;\">\n",
       "      <th></th>\n",
       "      <th>extraction</th>\n",
       "      <th>amplification</th>\n",
       "    </tr>\n",
       "    <tr>\n",
       "      <th>sampleid</th>\n",
       "      <th></th>\n",
       "      <th></th>\n",
       "    </tr>\n",
       "  </thead>\n",
       "  <tbody>\n",
       "    <tr>\n",
       "      <th>sample1</th>\n",
       "      <td>False</td>\n",
       "      <td>False</td>\n",
       "    </tr>\n",
       "    <tr>\n",
       "      <th>sample2</th>\n",
       "      <td>False</td>\n",
       "      <td>False</td>\n",
       "    </tr>\n",
       "    <tr>\n",
       "      <th>sample3</th>\n",
       "      <td>True</td>\n",
       "      <td>False</td>\n",
       "    </tr>\n",
       "    <tr>\n",
       "      <th>sample4</th>\n",
       "      <td>False</td>\n",
       "      <td>False</td>\n",
       "    </tr>\n",
       "    <tr>\n",
       "      <th>sample5</th>\n",
       "      <td>False</td>\n",
       "      <td>False</td>\n",
       "    </tr>\n",
       "    <tr>\n",
       "      <th>sample6</th>\n",
       "      <td>True</td>\n",
       "      <td>False</td>\n",
       "    </tr>\n",
       "  </tbody>\n",
       "</table>\n",
       "</div>"
      ],
      "text/plain": [
       "          extraction  amplification\n",
       "sampleid                           \n",
       "sample1        False          False\n",
       "sample2        False          False\n",
       "sample3         True          False\n",
       "sample4        False          False\n",
       "sample5        False          False\n",
       "sample6         True          False"
      ]
     },
     "execution_count": 19,
     "metadata": {},
     "output_type": "execute_result"
    }
   ],
   "source": [
    "test = data.isnull()\n",
    "test"
   ]
  },
  {
   "cell_type": "code",
   "execution_count": 23,
   "id": "b1a382cb-5e2d-4281-87f4-c63c4cfd21ac",
   "metadata": {},
   "outputs": [
    {
     "name": "stdout",
     "output_type": "stream",
     "text": [
      "True\n"
     ]
    }
   ],
   "source": [
    "print(test.iat[5,0])"
   ]
  },
  {
   "cell_type": "code",
   "execution_count": 24,
   "id": "b0475dad-fe95-4fe2-ba1d-bb4238fd0742",
   "metadata": {},
   "outputs": [
    {
     "data": {
      "text/html": [
       "<div>\n",
       "<style scoped>\n",
       "    .dataframe tbody tr th:only-of-type {\n",
       "        vertical-align: middle;\n",
       "    }\n",
       "\n",
       "    .dataframe tbody tr th {\n",
       "        vertical-align: top;\n",
       "    }\n",
       "\n",
       "    .dataframe thead th {\n",
       "        text-align: right;\n",
       "    }\n",
       "</style>\n",
       "<table border=\"1\" class=\"dataframe\">\n",
       "  <thead>\n",
       "    <tr style=\"text-align: right;\">\n",
       "      <th></th>\n",
       "      <th>sampleid</th>\n",
       "      <th>extraction</th>\n",
       "      <th>amplification</th>\n",
       "    </tr>\n",
       "  </thead>\n",
       "  <tbody>\n",
       "    <tr>\n",
       "      <th>0</th>\n",
       "      <td>sample1</td>\n",
       "      <td>1.0</td>\n",
       "      <td>1</td>\n",
       "    </tr>\n",
       "    <tr>\n",
       "      <th>1</th>\n",
       "      <td>sample2</td>\n",
       "      <td>1.0</td>\n",
       "      <td>1</td>\n",
       "    </tr>\n",
       "    <tr>\n",
       "      <th>2</th>\n",
       "      <td>sample3</td>\n",
       "      <td>NaN</td>\n",
       "      <td>1</td>\n",
       "    </tr>\n",
       "    <tr>\n",
       "      <th>3</th>\n",
       "      <td>sample4</td>\n",
       "      <td>2.0</td>\n",
       "      <td>2</td>\n",
       "    </tr>\n",
       "    <tr>\n",
       "      <th>4</th>\n",
       "      <td>sample5</td>\n",
       "      <td>2.0</td>\n",
       "      <td>2</td>\n",
       "    </tr>\n",
       "    <tr>\n",
       "      <th>5</th>\n",
       "      <td>sample6</td>\n",
       "      <td>NaN</td>\n",
       "      <td>2</td>\n",
       "    </tr>\n",
       "  </tbody>\n",
       "</table>\n",
       "</div>"
      ],
      "text/plain": [
       "  sampleid  extraction  amplification\n",
       "0  sample1         1.0              1\n",
       "1  sample2         1.0              1\n",
       "2  sample3         NaN              1\n",
       "3  sample4         2.0              2\n",
       "4  sample5         2.0              2\n",
       "5  sample6         NaN              2"
      ]
     },
     "execution_count": 24,
     "metadata": {},
     "output_type": "execute_result"
    }
   ],
   "source": [
    "data2 = pd.read_csv('/Users/haley/Dropbox/qiime2_dev/git/q2-decontam/q2_decontam/tests/data/split-batches-test.tsv', sep = '\\t')\n",
    "data2"
   ]
  },
  {
   "cell_type": "code",
   "execution_count": 139,
   "id": "130ebaf2-0932-43b4-a09e-79041c7cd70e",
   "metadata": {},
   "outputs": [
    {
     "name": "stdout",
     "output_type": "stream",
     "text": [
      "['Haley', 'Vennesa', 'Justin', 'Alex']\n"
     ]
    }
   ],
   "source": [
    "import random\n",
    "\n",
    "l = ['Alex', 'Ankita', 'Charissa', 'Conor', 'Grace', 'Haley', 'Justin', 'Vennesa', 'Elisa', 'Madeline']\n",
    "l2 = ['Alex', 'Haley', 'Justin', 'Vennesa']\n",
    "print(random.sample(l2, 4))\n",
    "\n",
    "\n"
   ]
  },
  {
   "cell_type": "code",
   "execution_count": null,
   "id": "9538ef6c-c9dc-4459-a6a4-8b86df86ed11",
   "metadata": {},
   "outputs": [],
   "source": [
    "import random\n",
    "\n",
    "l = ['Ankita', 'Conor', 'Haley']\n",
    "\n",
    "print(random.sample(l, 1))\n"
   ]
  },
  {
   "cell_type": "code",
   "execution_count": 8,
   "id": "cd041c46-840d-473e-8d9e-d657c9513408",
   "metadata": {},
   "outputs": [
    {
     "name": "stdout",
     "output_type": "stream",
     "text": [
      "Usage: \u001b[34mqiime decontam hello\u001b[0m [OPTIONS]\n",
      "\n",
      "  print 'hello world'\n",
      "\n",
      "\u001b[1mOutputs\u001b[0m:\n",
      "  \u001b[34m\u001b[4m--o-text\u001b[0m ARTIFACT    \n",
      "    \u001b[32mGreeting\u001b[0m                                                        \u001b[35m[required]\u001b[0m\n",
      "\u001b[1mMiscellaneous\u001b[0m:\n",
      "  \u001b[34m--output-dir\u001b[0m PATH    Output unspecified results to a directory\n",
      "  \u001b[34m--verbose\u001b[0m / \u001b[34m--quiet\u001b[0m  Display verbose output to stdout and/or stderr during\n",
      "                       execution of this action. Or silence output if\n",
      "                       execution is successful (silence is golden).\n",
      "  \u001b[34m--examples\u001b[0m           Show usage examples and exit.\n",
      "  \u001b[34m--citations\u001b[0m          Show citations and exit.\n",
      "  \u001b[34m--help\u001b[0m               Show this message and exit.\n"
     ]
    }
   ],
   "source": [
    "!qiime decontam hello --help"
   ]
  },
  {
   "cell_type": "code",
   "execution_count": 5,
   "id": "daaf1574-ae9d-4d84-8df4-5330fb9d737c",
   "metadata": {},
   "outputs": [
    {
     "name": "stdout",
     "output_type": "stream",
     "text": [
      "qiime decontam hello --o-text example_greeting --verbose\n",
      "\u001b[32mSaved Greeting to: example_greeting.qza\u001b[0m\n"
     ]
    }
   ],
   "source": [
    "!make run"
   ]
  },
  {
   "cell_type": "markdown",
   "id": "24b9fde6-704c-4def-8dac-604ff4d03eb3",
   "metadata": {},
   "source": [
    "Testing notes <br>\n",
    "# testing functionality for a single function unit test - every line of code\n",
    "# or logical branch works a test that looks at the if case and a test that\n",
    "# look at the else case write a failing test first, know test is running and\n",
    "# failing when it should setup runs before every test setup testclass runs\n",
    "# before every class set up - set up context needed in tests set up data in\n",
    "# the test it self eg - in order to test a method that needs a database,\n",
    "# set up the connections to the database\n",
    "# import module to test # from ..module import mytest\n",
    "# class SomeTests(unittest\n",
    "# help get data path - set package as class variable, data folder inside test directory\n",
    "#one class for all decontam or one for each function\n",
    "# test view api - object itself, or python api - hand artifacts\n",
    "#smoke test through q2 api - python code may not talk to q2 - this will catch this\n",
    "\n",
    "#q2:https://dev.qiime2.org/latest/architecture/ artifact api written in framework but is an interface, writting towards an api - an abstract programming interface that the framework defines. The framework does the work to translate from registration to the interface - plug in should not be interface specific\n",
    "#two ways of testing - try both - possible to get slightly different results\n",
    "\n",
    "#use the tool that q2 provides to get action from framework vs importing the function\n",
    "#python snake case\n",
    "#cli underscore\n",
    "#q2 replaces underscore with hyphens for cli\n",
    "# set up is a method of testpluginbase - I want to run the setup method from the porent class\n",
    "# super().setUp() creates 'plugin'\n"
   ]
  },
  {
   "cell_type": "code",
   "execution_count": null,
   "id": "7d9f20fa-2c5e-4f2c-b746-a208db2081f0",
   "metadata": {},
   "outputs": [],
   "source": [
    "print(actual.view(dict))"
   ]
  },
  {
   "cell_type": "code",
   "execution_count": null,
   "id": "8a76a469-3291-41bd-97ba-ca6273a51ec9",
   "metadata": {},
   "outputs": [],
   "source": [
    " def test_split_samples_single(self):\n",
    "    \n",
    "         metadata = qiime2.Metadata(pd.DataFrame(\n",
    "             {'extraction': ['1', '1', '1', np.nan, np.nan, np.nan],\n",
    "              'amplification': ['1', '1', '1', '2', '2', '2']},\n",
    "             index=pd.Index(['sample1', 'sample2', 'sample3', 'sample4',\n",
    "                             'sample5', 'sample6'], name='sampleid')))\n",
    "    \n",
    "         actual, = self.split_samples(self.table, metadata,\n",
    "                                     ['extraction'])\n",
    "    \n",
    "         e_dir = self.get_data_path('SampleBatchesDir')\n",
    "    \n",
    "         expected = qiime2.Artifact.import_data(\n",
    "             'FeatureTableBatches[Frequency]', e_dir)\n",
    "    \n",
    "         self.assertEqual(actual, expected)"
   ]
  },
  {
   "cell_type": "code",
   "execution_count": null,
   "id": "4c1fd2c3-b958-482c-aeba-1cc1dcd397e0",
   "metadata": {},
   "outputs": [],
   "source": [
    "#\n",
    "# class TestPrepareControlBatches(unittest.TestCase):\n",
    "#     def test_sample_type_col_in_control_cols(self):\n",
    "#         self.assertTrue(False)\n",
    "#\n",
    "#     def test_meta_col(self):\n",
    "#         actual = set(sample_metadata.columns)\n",
    "#         expected = {'sampleid', 'sample_type'}\n",
    "#         self.assertSetEqual(actual, expected)\n",
    "#\n",
    "#     def test_sample_type_col_in_meta_cols(self):\n",
    "#         meta_cols = {'sampleid', 'sample_type'}\n",
    "#         self.assertIn('sample_type', meta_cols)\n",
    "#\n",
    "#     def test_sample_type_col_notin_meta_cols(self):\n",
    "#         meta_cols = {'sampleid', 'sample_type'}\n",
    "#         self.assertNotIn('sample_type', meta_cols,\n",
    "#                          'sample type column is not in metadata')\n",
    "\n"
   ]
  },
  {
   "cell_type": "markdown",
   "id": "c0ca6aca-6de7-4b48-be2f-b79fcef4bc0f",
   "metadata": {},
   "source": [
    "def prepare control batches (feature table, metadata, name of sample_type col, name of experimental samples in sample_type col (default to experimental, optional parameter name_of_experimental_sample = 'experimental'))\n",
    "    create a list of unique values for each control type metadata col sample_type\n",
    "    use filter samples to create a list of samples where sample_type = each unique value \n",
    "    return lists of sample ids associated with each sample_type except\n",
    "    use filter features on returned lists keep only features present in at least 2 samples were sample_type = experimental\n",
    "    return subsets of feature tables with features in 2 or more experimental samples named by sample_type\n",
    "    \n",
    "    look at my py docs\n",
    "    \n",
    "    from typing import List, Tuple\n",
    "        List[biom.Table] are mutable\n",
    "\n",
    "        Tuple[biom.Table, ...] immutable \n",
    "        \n",
    "        ar_1, var2 = some_func_that_returns a two-tuple\n",
    "        var_1 first value from the tuple \n",
    "base class - underlying functionality - don't use\n",
    "concrete - childern of base classes - concrete implimentation \n",
    "\n",
    "https://stackoverflow.com/questions/13957829/how-to-use-raise-keyword-in-python/13957915#13957915\n",
    "\n",
    "https://docs.pytest.org/en/6.2.x/goodpractices.html#test-discovery\n",
    "\n",
    "q2 lint\n",
    "BSD3 clause license\n",
    "regex to check header against some standard for q2\n",
    "require that q2 is in header <br>\n",
    "\n",
    "<br>\n",
    "data sets \n",
    "www-nature-com.clsproxy.library.caltech.edu/articles/nbt.3981\n",
    "\n",
    "nature.com/articles/nbt.3981\n",
    "\n",
    "\n"
   ]
  }
 ],
 "metadata": {
  "kernelspec": {
   "display_name": "Python 3",
   "language": "python",
   "name": "python3"
  },
  "language_info": {
   "codemirror_mode": {
    "name": "ipython",
    "version": 3
   },
   "file_extension": ".py",
   "mimetype": "text/x-python",
   "name": "python",
   "nbconvert_exporter": "python",
   "pygments_lexer": "ipython3",
   "version": "3.6.13"
  }
 },
 "nbformat": 4,
 "nbformat_minor": 5
}
