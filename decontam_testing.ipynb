{
 "cells": [
  {
   "cell_type": "code",
   "execution_count": 1,
   "id": "8bbffbab-151d-4dbe-8030-5f3dd10800ad",
   "metadata": {},
   "outputs": [],
   "source": [
    "import glob\n",
    "import os\n",
    "import pandas as pd\n",
    "import numpy as np\n",
    "import math\n",
    "import scipy.stats as st\n",
    "\n",
    "import qiime2 as q2"
   ]
  },
  {
   "cell_type": "code",
   "execution_count": 3,
   "id": "cd041c46-840d-473e-8d9e-d657c9513408",
   "metadata": {},
   "outputs": [
    {
     "name": "stdout",
     "output_type": "stream",
     "text": [
      "Usage: \u001b[34mqiime decontam hello\u001b[0m [OPTIONS]\n",
      "\n",
      "  print 'hello world'\n",
      "\n",
      "\u001b[1mOutputs\u001b[0m:\n",
      "  \u001b[34m\u001b[4m--o-text\u001b[0m ARTIFACT    \n",
      "    \u001b[32mGreeting\u001b[0m                                                        \u001b[35m[required]\u001b[0m\n",
      "\u001b[1mMiscellaneous\u001b[0m:\n",
      "  \u001b[34m--output-dir\u001b[0m PATH    Output unspecified results to a directory\n",
      "  \u001b[34m--verbose\u001b[0m / \u001b[34m--quiet\u001b[0m  Display verbose output to stdout and/or stderr during\n",
      "                       execution of this action. Or silence output if\n",
      "                       execution is successful (silence is golden).\n",
      "  \u001b[34m--examples\u001b[0m           Show usage examples and exit.\n",
      "  \u001b[34m--citations\u001b[0m          Show citations and exit.\n",
      "  \u001b[34m--help\u001b[0m               Show this message and exit.\n"
     ]
    }
   ],
   "source": [
    "!qiime decontam hello --help"
   ]
  },
  {
   "cell_type": "code",
   "execution_count": 5,
   "id": "daaf1574-ae9d-4d84-8df4-5330fb9d737c",
   "metadata": {},
   "outputs": [
    {
     "name": "stdout",
     "output_type": "stream",
     "text": [
      "qiime decontam hello --o-text example_greeting --verbose\n",
      "\u001b[32mSaved Greeting to: example_greeting.qza\u001b[0m\n"
     ]
    }
   ],
   "source": [
    "!make run"
   ]
  },
  {
   "cell_type": "markdown",
   "id": "c0ca6aca-6de7-4b48-be2f-b79fcef4bc0f",
   "metadata": {},
   "source": [
    "def prepare control batches (feature table, metadata, name of sample_type col, name of experimental samples in sample_type col (default to experimental, optional parameter name_of_experimental_sample = 'experimental'))\n",
    "    create a list of unique values for each control type metadata col sample_type\n",
    "    use filter samples to create a list of samples where sample_type = each unique value \n",
    "    return lists of sample ids associated with each sample_type except\n",
    "    use filter features on returned lists keep only features present in at least 2 samples were sample_type = experimental\n",
    "    return subsets of feature tables with features in 2 or more experimental samples named by sample_type\n",
    "    \n",
    "    look at my py docs\n",
    "    \n",
    "    from typing import List, Tuple\n",
    "        List[biom.Table] are mutable\n",
    "\n",
    "        Tuple[biom.Table, ...] immutable \n",
    "        \n",
    "        ar_1, var2 = some_func_that_returns a two-tuple\n",
    "        var_1 first value from the tuple \n",
    "base class - underlying functionality - don't use\n",
    "concrete - childern of base classes - concrete implimentation \n",
    "\n",
    "https://stackoverflow.com/questions/13957829/how-to-use-raise-keyword-in-python/13957915#13957915\n",
    "\n",
    "https://docs.pytest.org/en/6.2.x/goodpractices.html#test-discovery\n",
    "\n",
    "q2 lint\n",
    "BSD3 clause license\n",
    "regex to check header against some standard for q2\n",
    "require that q2 is in header "
   ]
  }
 ],
 "metadata": {
  "kernelspec": {
   "display_name": "Python 3",
   "language": "python",
   "name": "python3"
  },
  "language_info": {
   "codemirror_mode": {
    "name": "ipython",
    "version": 3
   },
   "file_extension": ".py",
   "mimetype": "text/x-python",
   "name": "python",
   "nbconvert_exporter": "python",
   "pygments_lexer": "ipython3",
   "version": "3.6.13"
  }
 },
 "nbformat": 4,
 "nbformat_minor": 5
}
